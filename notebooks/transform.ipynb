{
 "cells": [
  {
   "cell_type": "code",
   "execution_count": 75,
   "id": "87a9e7c9",
   "metadata": {},
   "outputs": [
    {
     "name": "stdout",
     "output_type": "stream",
     "text": [
      "Requirement already satisfied: pandas in c:\\users\\student\\digital_futures\\abdullah-capstone-project\\my-capstone-etl-project\\.venv\\lib\\site-packages (2.3.2)\n",
      "Requirement already satisfied: numpy in c:\\users\\student\\digital_futures\\abdullah-capstone-project\\my-capstone-etl-project\\.venv\\lib\\site-packages (2.3.2)\n",
      "Requirement already satisfied: python-dateutil>=2.8.2 in c:\\users\\student\\digital_futures\\abdullah-capstone-project\\my-capstone-etl-project\\.venv\\lib\\site-packages (from pandas) (2.9.0.post0)\n",
      "Requirement already satisfied: pytz>=2020.1 in c:\\users\\student\\digital_futures\\abdullah-capstone-project\\my-capstone-etl-project\\.venv\\lib\\site-packages (from pandas) (2025.2)\n",
      "Requirement already satisfied: tzdata>=2022.7 in c:\\users\\student\\digital_futures\\abdullah-capstone-project\\my-capstone-etl-project\\.venv\\lib\\site-packages (from pandas) (2025.2)\n",
      "Requirement already satisfied: six>=1.5 in c:\\users\\student\\digital_futures\\abdullah-capstone-project\\my-capstone-etl-project\\.venv\\lib\\site-packages (from python-dateutil>=2.8.2->pandas) (1.17.0)\n",
      "Note: you may need to restart the kernel to use updated packages.\n",
      "pandas 2.3.2\n",
      "numpy 2.3.2\n"
     ]
    },
    {
     "name": "stderr",
     "output_type": "stream",
     "text": [
      "\n",
      "[notice] A new release of pip is available: 25.1.1 -> 25.2\n",
      "[notice] To update, run: python.exe -m pip install --upgrade pip\n"
     ]
    }
   ],
   "source": [
    "# Install missing packages\n",
    "%pip install pandas numpy\n",
    "\n",
    "#Import necessary libraries\n",
    "\n",
    "import sys as sys\n",
    "\n",
    "import pandas\n",
    "import numpy as np\n",
    "\n",
    "print(\"pandas\", pandas.__version__)\n",
    "print(\"numpy\", np.__version__)\n",
    "\n"
   ]
  },
  {
   "cell_type": "markdown",
   "id": "ccb41967",
   "metadata": {},
   "source": [
    "Load the Data frame of the CSV file and display a few rows from the file"
   ]
  },
  {
   "cell_type": "code",
   "execution_count": 76,
   "id": "c915100a",
   "metadata": {},
   "outputs": [
    {
     "data": {
      "text/html": [
       "<div>\n",
       "<style scoped>\n",
       "    .dataframe tbody tr th:only-of-type {\n",
       "        vertical-align: middle;\n",
       "    }\n",
       "\n",
       "    .dataframe tbody tr th {\n",
       "        vertical-align: top;\n",
       "    }\n",
       "\n",
       "    .dataframe thead th {\n",
       "        text-align: right;\n",
       "    }\n",
       "</style>\n",
       "<table border=\"1\" class=\"dataframe\">\n",
       "  <thead>\n",
       "    <tr style=\"text-align: right;\">\n",
       "      <th></th>\n",
       "      <th>from_airport_code</th>\n",
       "      <th>from_country</th>\n",
       "      <th>dest_country</th>\n",
       "      <th>aircraft_type</th>\n",
       "      <th>airline_name</th>\n",
       "      <th>flight_number</th>\n",
       "      <th>departure_time</th>\n",
       "      <th>arrival_time</th>\n",
       "      <th>duration</th>\n",
       "      <th>stops</th>\n",
       "      <th>price</th>\n",
       "      <th>co2_emissions</th>\n",
       "      <th>avg_co2_emission_for_this_route</th>\n",
       "      <th>co2_percentage</th>\n",
       "    </tr>\n",
       "  </thead>\n",
       "  <tbody>\n",
       "    <tr>\n",
       "      <th>0</th>\n",
       "      <td>BRU</td>\n",
       "      <td>Belgium</td>\n",
       "      <td>Spain</td>\n",
       "      <td>Airbus A319|ATR 72|Airbus A319</td>\n",
       "      <td>[Brussels Airlines| Tap Air Portugal]</td>\n",
       "      <td>SN3809|SN3809|SN3809</td>\n",
       "      <td>27/08/2022 14:40</td>\n",
       "      <td>28/08/2022 00:20</td>\n",
       "      <td>580</td>\n",
       "      <td>2</td>\n",
       "      <td>269.45</td>\n",
       "      <td>338000.0</td>\n",
       "      <td>149000.0</td>\n",
       "      <td>127%</td>\n",
       "    </tr>\n",
       "    <tr>\n",
       "      <th>1</th>\n",
       "      <td>XIY</td>\n",
       "      <td>China</td>\n",
       "      <td>China</td>\n",
       "      <td>Airbus A321|Boeing 737</td>\n",
       "      <td>[China Eastern| Shanghai Airlines]</td>\n",
       "      <td>MU2155|MU2155</td>\n",
       "      <td>15/05/2022 11:00</td>\n",
       "      <td>15/05/2022 16:30</td>\n",
       "      <td>330</td>\n",
       "      <td>1</td>\n",
       "      <td>540.60</td>\n",
       "      <td>284000.0</td>\n",
       "      <td>NaN</td>\n",
       "      <td>NaN</td>\n",
       "    </tr>\n",
       "    <tr>\n",
       "      <th>2</th>\n",
       "      <td>MUC</td>\n",
       "      <td>Germany</td>\n",
       "      <td>Canada</td>\n",
       "      <td>Airbus A320|Embraer 195|Boeing 787</td>\n",
       "      <td>[Lufthansa| LOT]</td>\n",
       "      <td>LH1622|LH1622|LH1622</td>\n",
       "      <td>30/05/2022 11:20</td>\n",
       "      <td>30/05/2022 20:15</td>\n",
       "      <td>895</td>\n",
       "      <td>2</td>\n",
       "      <td>767.55</td>\n",
       "      <td>684000.0</td>\n",
       "      <td>656000.0</td>\n",
       "      <td>4%</td>\n",
       "    </tr>\n",
       "    <tr>\n",
       "      <th>3</th>\n",
       "      <td>HGH</td>\n",
       "      <td>China</td>\n",
       "      <td>United States</td>\n",
       "      <td>Airbus A321neo|Airbus A350|Boeing 737|De Havil...</td>\n",
       "      <td>[Cathay Pacific| Alaska]</td>\n",
       "      <td>CX959|CX959|CX959|CX959</td>\n",
       "      <td>30/05/2022 11:25</td>\n",
       "      <td>31/05/2022 20:29</td>\n",
       "      <td>2884</td>\n",
       "      <td>3</td>\n",
       "      <td>2198.10</td>\n",
       "      <td>1133000.0</td>\n",
       "      <td>1119000.0</td>\n",
       "      <td>1%</td>\n",
       "    </tr>\n",
       "    <tr>\n",
       "      <th>4</th>\n",
       "      <td>BOM</td>\n",
       "      <td>India</td>\n",
       "      <td>Thailand</td>\n",
       "      <td>Airbus A320|Airbus A320</td>\n",
       "      <td>[IndiGo]</td>\n",
       "      <td>6E2518|6E2518</td>\n",
       "      <td>07/05/2022 20:35</td>\n",
       "      <td>08/05/2022 11:20</td>\n",
       "      <td>795</td>\n",
       "      <td>1</td>\n",
       "      <td>194.65</td>\n",
       "      <td>412000.0</td>\n",
       "      <td>340000.0</td>\n",
       "      <td>20%</td>\n",
       "    </tr>\n",
       "  </tbody>\n",
       "</table>\n",
       "</div>"
      ],
      "text/plain": [
       "  from_airport_code from_country   dest_country  \\\n",
       "0               BRU      Belgium          Spain   \n",
       "1               XIY        China          China   \n",
       "2               MUC      Germany         Canada   \n",
       "3               HGH        China  United States   \n",
       "4               BOM        India       Thailand   \n",
       "\n",
       "                                       aircraft_type  \\\n",
       "0                     Airbus A319|ATR 72|Airbus A319   \n",
       "1                             Airbus A321|Boeing 737   \n",
       "2                 Airbus A320|Embraer 195|Boeing 787   \n",
       "3  Airbus A321neo|Airbus A350|Boeing 737|De Havil...   \n",
       "4                            Airbus A320|Airbus A320   \n",
       "\n",
       "                            airline_name            flight_number  \\\n",
       "0  [Brussels Airlines| Tap Air Portugal]     SN3809|SN3809|SN3809   \n",
       "1     [China Eastern| Shanghai Airlines]            MU2155|MU2155   \n",
       "2                       [Lufthansa| LOT]     LH1622|LH1622|LH1622   \n",
       "3               [Cathay Pacific| Alaska]  CX959|CX959|CX959|CX959   \n",
       "4                               [IndiGo]            6E2518|6E2518   \n",
       "\n",
       "     departure_time      arrival_time  duration  stops    price  \\\n",
       "0  27/08/2022 14:40  28/08/2022 00:20       580      2   269.45   \n",
       "1  15/05/2022 11:00  15/05/2022 16:30       330      1   540.60   \n",
       "2  30/05/2022 11:20  30/05/2022 20:15       895      2   767.55   \n",
       "3  30/05/2022 11:25  31/05/2022 20:29      2884      3  2198.10   \n",
       "4  07/05/2022 20:35  08/05/2022 11:20       795      1   194.65   \n",
       "\n",
       "   co2_emissions  avg_co2_emission_for_this_route co2_percentage  \n",
       "0       338000.0                         149000.0           127%  \n",
       "1       284000.0                              NaN            NaN  \n",
       "2       684000.0                         656000.0             4%  \n",
       "3      1133000.0                        1119000.0             1%  \n",
       "4       412000.0                         340000.0            20%  "
      ]
     },
     "execution_count": 76,
     "metadata": {},
     "output_type": "execute_result"
    }
   ],
   "source": [
    "# Load the CSV file from the data/raw directory\n",
    "df = pandas.read_csv(\"../data/raw/global_flights_data.csv\")\n",
    "\n",
    "df.head()"
   ]
  },
  {
   "cell_type": "code",
   "execution_count": null,
   "id": "2b1299fc",
   "metadata": {},
   "outputs": [],
   "source": [
    "# Display DataFrame information and structure\n",
    "print(\"DataFrame Shape:\", df.shape)\n",
    "print(\"\\nColumn Names:\")\n",
    "print(df.columns.tolist())\n",
    "print(\"\\nData Types:\")\n",
    "print(df.dtypes)\n",
    "print(\"\\nFirst 5 rows:\")\n",
    "print(df.head())\n",
    "print(\"\\nDataFrame Info:\")\n",
    "df.info()"
   ]
  },
  {
   "cell_type": "markdown",
   "id": "58eff30c",
   "metadata": {},
   "source": [
    "Display missing values in the dataset and represent this as s percentage of missing values within the entire datset for every column."
   ]
  },
  {
   "cell_type": "code",
   "execution_count": null,
   "id": "505ea096",
   "metadata": {},
   "outputs": [],
   "source": [
    "#For better display print a title of the output on top part of code\n",
    "\n",
    "print(\"Missing Values in the Dataset:\")\n",
    "print (\"=\" * 30)\n",
    "\n",
    "\n",
    "\n",
    "#Print total percentage of rows with missing values\n",
    "total_missing = df.isna().sum().sum()\n",
    "total_pct = (total_missing / (total_rows * len(df.columns))) * 100  # total_rows is already defined\n",
    "print(f\"Total: {total_missing:,} missing cells ({total_pct:.2f}%)\")\n"
   ]
  },
  {
   "cell_type": "code",
   "execution_count": null,
   "id": "9401ba77",
   "metadata": {},
   "outputs": [],
   "source": [
    "#Remove missing values from the dataset\n",
    "df = df.dropna()\n",
    "\n",
    "total_missing = df.isna().sum().sum()\n",
    "\n",
    "print(total_missing)"
   ]
  },
  {
   "cell_type": "markdown",
   "id": "66c35817",
   "metadata": {},
   "source": [
    "Convert the current ticket prices to Great British Pounds from US Dollars"
   ]
  },
  {
   "cell_type": "code",
   "execution_count": null,
   "id": "36b9fc28",
   "metadata": {},
   "outputs": [],
   "source": [
    "# Convert the price to GBP with currency values in 2022\n",
    "df['price'] = df['price'] * 0.85\n",
    "\n",
    "df = df.round(2) #Rounds the final prices to 2 decimal places, eg ---> £145.47\n",
    "\n",
    "df.head(10)"
   ]
  },
  {
   "cell_type": "markdown",
   "id": "9556a944",
   "metadata": {},
   "source": [
    "Identify any duplicate values in the rows"
   ]
  },
  {
   "cell_type": "code",
   "execution_count": null,
   "id": "9aa2e79e",
   "metadata": {},
   "outputs": [],
   "source": [
    "#Find duplicate rows in the dataset\n",
    "duplicate_rows = df[df.duplicated()]\n",
    "\n",
    "#show the number of duplicate rows found\n",
    "print(f\"Number of duplicate rows found: {len(duplicate_rows)}\")\n",
    "\n",
    "\n",
    "#Display the results\n",
    "print(\"Duplicate Rows in the Dataset:\")\n",
    "print(\"=\" * 50)\n",
    "print(duplicate_rows)"
   ]
  },
  {
   "cell_type": "markdown",
   "id": "443883cf",
   "metadata": {},
   "source": [
    "Remove rows which are completely duplicate"
   ]
  },
  {
   "cell_type": "code",
   "execution_count": null,
   "id": "84f367b0",
   "metadata": {},
   "outputs": [],
   "source": [
    "#remove all duplicate rows\n",
    "df.drop_duplicates(inplace=True)\n",
    "\n",
    "\n",
    "#print the number of rows after removing duplicates\n",
    "print(f\" 📊 Number of rows after removing duplicates: {len(df)}\")\n",
    "\n",
    "df"
   ]
  },
  {
   "cell_type": "markdown",
   "id": "6750bafa",
   "metadata": {},
   "source": [
    "Standerdise the data for when uploading to DBeaver."
   ]
  },
  {
   "cell_type": "markdown",
   "id": "3a197a2d",
   "metadata": {},
   "source": [
    "Convert the Carbon Dioxide emission columns from grams to kilograms"
   ]
  },
  {
   "cell_type": "code",
   "execution_count": null,
   "id": "5c2de3aa",
   "metadata": {},
   "outputs": [],
   "source": [
    "#Convert CO2 emission columns from grams to kilograms\n",
    "#1 Kg = 1000 grams\n",
    "\n",
    "df['co2_emissions'] = df['co2_emissions'] / 1000\n",
    "\n",
    "#Convert the average co2 emission column from grams to kilograms\n",
    "df['avg_co2_emission_for_this_route'] = df['avg_co2_emission_for_this_route'] / 1000\n",
    "\n",
    "df.head(4)"
   ]
  },
  {
   "cell_type": "markdown",
   "id": "35a04921",
   "metadata": {},
   "source": [
    "# Drop columns\n",
    "\n"
   ]
  },
  {
   "cell_type": "code",
   "execution_count": null,
   "id": "5ef9222f",
   "metadata": {},
   "outputs": [],
   "source": [
    "# Drop the from_country_code column if it exists\n",
    "\n",
    "if 'from_country_code' in df.columns:\n",
    "    df.drop(columns=['from_country_code'], inplace=True)\n",
    " \n",
    "#Display the result\n",
    "\n",
    "df.head(10)\n",
    " \n",
    " "
   ]
  },
  {
   "cell_type": "markdown",
   "id": "e01203ad",
   "metadata": {},
   "source": [
    "Drop the airport code column, leaving just countries from and to."
   ]
  },
  {
   "cell_type": "code",
   "execution_count": null,
   "id": "5d383c5e",
   "metadata": {},
   "outputs": [],
   "source": [
    "df = df.drop(columns=[\"from_airport_code\"], errors=\"ignore\")\n",
    "\n",
    "df\n",
    "\n",
    "\n"
   ]
  }
 ],
 "metadata": {
  "kernelspec": {
   "display_name": ".venv",
   "language": "python",
   "name": "python3"
  },
  "language_info": {
   "codemirror_mode": {
    "name": "ipython",
    "version": 3
   },
   "file_extension": ".py",
   "mimetype": "text/x-python",
   "name": "python",
   "nbconvert_exporter": "python",
   "pygments_lexer": "ipython3",
   "version": "3.13.5"
  }
 },
 "nbformat": 4,
 "nbformat_minor": 5
}
